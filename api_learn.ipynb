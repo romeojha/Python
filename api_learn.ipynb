{
 "cells": [
  {
   "cell_type": "code",
   "execution_count": 2,
   "metadata": {},
   "outputs": [],
   "source": [
    "import requests\n",
    "request=requests.get('https://api.kanye.rest')\n",
    "print(request['quote'])"
   ]
  },
  {
   "cell_type": "code",
   "execution_count": 2,
   "metadata": {},
   "outputs": [
    {
     "name": "stdout",
     "output_type": "stream",
     "text": [
      "All the musicians will be free\n"
     ]
    }
   ],
   "source": [
    "import requests\n",
    "request=requests.get('https://api.kanye.rest')\n",
    "response=request.json()\n",
    "print(response[\"quote\"])\n"
   ]
  },
  {
   "cell_type": "code",
   "execution_count": 4,
   "metadata": {},
   "outputs": [
    {
     "name": "stdout",
     "output_type": "stream",
     "text": [
      "ERROR! Session/line number was not unique in database. History logging moved to new session 136\n",
      "time for sunrise is  6:53:29 AM\n"
     ]
    }
   ],
   "source": [
    "import requests\n",
    "request=requests.get('https://api.sunrise-sunset.org/json?lat=36.7201600&lng=-4.4203400')\n",
    "request.raise_for_status()\n",
    "response=request.json()\n",
    "formatter={\n",
    "    'formatted'=0\n",
    "}\n",
    "sunrise=response['results']['sunrise']\n",
    "\n",
    "print('time for sunrise is ', sunrise)\n"
   ]
  }
 ],
 "metadata": {
  "interpreter": {
   "hash": "f9f85f796d01129d0dd105a088854619f454435301f6ffec2fea96ecbd9be4ac"
  },
  "kernelspec": {
   "display_name": "Python 3.9.5 64-bit",
   "language": "python",
   "name": "python3"
  },
  "language_info": {
   "codemirror_mode": {
    "name": "ipython",
    "version": 3
   },
   "file_extension": ".py",
   "mimetype": "text/x-python",
   "name": "python",
   "nbconvert_exporter": "python",
   "pygments_lexer": "ipython3",
   "version": "3.9.5"
  },
  "orig_nbformat": 4
 },
 "nbformat": 4,
 "nbformat_minor": 2
}
