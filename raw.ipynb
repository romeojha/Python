{
 "metadata": {
  "language_info": {
   "codemirror_mode": {
    "name": "ipython",
    "version": 3
   },
   "file_extension": ".py",
   "mimetype": "text/x-python",
   "name": "python",
   "nbconvert_exporter": "python",
   "pygments_lexer": "ipython3",
   "version": "3.9.1-final"
  },
  "orig_nbformat": 2,
  "kernelspec": {
   "name": "python3",
   "display_name": "Python 3.9.1 64-bit",
   "metadata": {
    "interpreter": {
     "hash": "ca7165b3874c121c9f63e9490792d5288fe8335c417634071cb2f60b95a24850"
    }
   }
  }
 },
 "nbformat": 4,
 "nbformat_minor": 2,
 "cells": [
  {
   "cell_type": "code",
   "execution_count": 23,
   "metadata": {},
   "outputs": [
    {
     "output_type": "stream",
     "name": "stdout",
     "text": [
      "you choose medium pizza of  275\n"
     ]
    }
   ],
   "source": [
    "cheese_price = 50\n",
    "small = 200\n",
    "medium = 275\n",
    "large = 350\n",
    "size = input(f\"what size pizza do you want? S M L of Rs{small,medium,large} \\n\")\n",
    "cheese = input(f\"do you want extra cheese of Rs{cheese_price}?Y/N\\n\")\n",
    "pepper = input(\"do you want some pepper Rs'50-100'? Y/N\\n\")\n",
    "if size == \"s\":\n",
    "    if cheese==\"y\":\n",
    "        pizza_price=small+cheese_price\n",
    "        print(\"you choose small pizza with cheese of\",pizza_price)\n",
    "    elif pepper==\"y\":\n",
    "        pizza_price=small+50\n",
    "        print(\"you choose small pizza with pepper of\",pizza_price)\n",
    "    elif cheese==\"y\" and pepper==\"y\":\n",
    "        pizza_price=small+cheese_price\n",
    "        print(\"you choose small pizza with cheese and pepper of\",pizza_price)\n",
    "    else:\n",
    "        pizza_price = small\n",
    "        print(\"you choose small pizza of \",pizza_price)\n",
    "elif size == \"m\":\n",
    "    if cheese==\"y\":\n",
    "        pizza_price=medium+cheese_price\n",
    "        print(\"you choose medium pizza with cheese of\",pizza_price)\n",
    "    elif pepper==\"y\":\n",
    "        pizza_price=medium+75\n",
    "        print(\"you choose medium pizza with pepper of\",pizza_price)\n",
    "    elif cheese==\"y\" and pepper==\"y\":\n",
    "        pizza_price=medium+cheese_price\n",
    "        print(\"you choose medium pizza with cheese and pepper of\",pizza_price)\n",
    "    else:\n",
    "        pizza_price = medium\n",
    "        print(\"you choose medium pizza of \",pizza_price)\n",
    "elif size == \"l\":\n",
    "    if cheese==\"y\":\n",
    "        pizza_price=large+cheese_price\n",
    "        print(\"you choose large pizza with cheese of\",pizza_price)\n",
    "    elif pepper==\"y\":\n",
    "        pizza_price=large+100\n",
    "        print(\"you choose large pizza with pepper of\",pizza_price)\n",
    "    elif cheese==\"y\" and pepper==\"y\":\n",
    "        pizza_price=large+cheese_price\n",
    "        print(\"you choose large pizza with cheese and pepper of\",pizza_price)\n",
    "    else:\n",
    "        pizza_price = large\n",
    "        print(\"you choose large pizza of \",pizza_price)\n"
   ]
  },
  {
   "cell_type": "code",
   "execution_count": null,
   "metadata": {},
   "outputs": [],
   "source": []
  },
  {
   "cell_type": "code",
   "execution_count": 3,
   "metadata": {},
   "outputs": [
    {
     "output_type": "stream",
     "name": "stdout",
     "text": [
      "he can worki in urban onl\n"
     ]
    }
   ],
   "source": [
    "sex=input(\"sex: m or f\")\n",
    "age=int(input(\"enter age\"))\n",
    "range1=range(20,41)\n",
    "range2=range(40,61)\n",
    "if sex=='f' and age in range(20,41):\n",
    "    print(\"she will work in urban areas\")\n",
    "elif sex=='m' and age in range(20,41):\n",
    "    print(\"he can work anywhere\")\n",
    "elif sex=='m' and age in range(40,61):\n",
    "    print(\"he can worki in urban onl\")\n",
    "else:\n",
    "    print(\"you entered wrong age\")\n",
    "\n"
   ]
  },
  {
   "cell_type": "code",
   "execution_count": 8,
   "metadata": {},
   "outputs": [
    {
     "output_type": "stream",
     "name": "stdout",
     "text": [
      "you guessed h\nits tail\n"
     ]
    }
   ],
   "source": [
    "#randomization\n",
    "#coin toss using randomization\n",
    "import random\n",
    "h_or_t=random.randint(0,10)\n",
    "guess=input(\"guess what will be it: head or tail\")\n",
    "print(f\"you guessed {guess}\")\n",
    "if h_or_t%2==0:\n",
    "    print(\"its head\")\n",
    "elif h_or_t%2!=0:\n",
    "    print(\"its tail\")\n",
    "else:\n",
    "    print(\"none\")"
   ]
  },
  {
   "cell_type": "code",
   "execution_count": 34,
   "metadata": {},
   "outputs": [
    {
     "output_type": "stream",
     "name": "stdout",
     "text": [
      "['prvu', 'ncit', 'puntu', 'mom', 'dad', 'hdl', 'ni', 'nccbbs']\n8\n"
     ]
    }
   ],
   "source": [
    "r=['nccb','prvu','ncit','puntu','mom','dad']\n",
    "r.append('hdl')\n",
    "r.extend(['ni'])\n",
    "r.remove('nccb')\n",
    "r.insert(len(r),'nccbbs')\n",
    "print(r)\n",
    "print(len(r))"
   ]
  },
  {
   "cell_type": "code",
   "execution_count": 50,
   "metadata": {},
   "outputs": [
    {
     "output_type": "stream",
     "name": "stdout",
     "text": [
      "thee one who is gonna pay the bill is  k\n"
     ]
    }
   ],
   "source": [
    "names=input(\"names seperated by comma for friends\")\n",
    "l_names=names.split(\",\")\n",
    "count=len(l_names)\n",
    "random_number=random.randint(1,count-1)\n",
    "print(\"thee one who is gonna pay the bill is\",l_names[random_number])\n",
    "\n"
   ]
  },
  {
   "cell_type": "code",
   "execution_count": null,
   "metadata": {},
   "outputs": [],
   "source": []
  }
 ]
}