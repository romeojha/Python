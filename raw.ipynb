{
 "metadata": {
  "language_info": {
   "codemirror_mode": {
    "name": "ipython",
    "version": 3
   },
   "file_extension": ".py",
   "mimetype": "text/x-python",
   "name": "python",
   "nbconvert_exporter": "python",
   "pygments_lexer": "ipython3",
   "version": "3.8.5"
  },
  "orig_nbformat": 2,
  "kernelspec": {
   "name": "python38564bit29dbb6c09ab44c1fa65bf4c0293e8ece",
   "display_name": "Python 3.8.5 64-bit"
  },
  "metadata": {
   "interpreter": {
    "hash": "31f2aee4e71d21fbe5cf8b01ff0e069b9275f58929596ceb00d14d90e3e16cd6"
   }
  }
 },
 "nbformat": 4,
 "nbformat_minor": 2,
 "cells": [
  {
   "cell_type": "code",
   "execution_count": 23,
   "metadata": {},
   "outputs": [
    {
     "output_type": "stream",
     "name": "stdout",
     "text": [
      "you choose medium pizza of  275\n"
     ]
    }
   ],
   "source": [
    "cheese_price = 50\n",
    "small = 200\n",
    "medium = 275\n",
    "large = 350\n",
    "size = input(f\"what size pizza do you want? S M L of Rs{small,medium,large} \\n\")\n",
    "cheese = input(f\"do you want extra cheese of Rs{cheese_price}?Y/N\\n\")\n",
    "pepper = input(\"do you want some pepper Rs'50-100'? Y/N\\n\")\n",
    "if size == \"s\":\n",
    "    if cheese==\"y\":\n",
    "        pizza_price=small+cheese_price\n",
    "        print(\"you choose small pizza with cheese of\",pizza_price)\n",
    "    elif pepper==\"y\":\n",
    "        pizza_price=small+50\n",
    "        print(\"you choose small pizza with pepper of\",pizza_price)\n",
    "    elif cheese==\"y\" and pepper==\"y\":\n",
    "        pizza_price=small+cheese_price\n",
    "        print(\"you choose small pizza with cheese and pepper of\",pizza_price)\n",
    "    else:\n",
    "        pizza_price = small\n",
    "        print(\"you choose small pizza of \",pizza_price)\n",
    "elif size == \"m\":\n",
    "    if cheese==\"y\":\n",
    "        pizza_price=medium+cheese_price\n",
    "        print(\"you choose medium pizza with cheese of\",pizza_price)\n",
    "    elif pepper==\"y\":\n",
    "        pizza_price=medium+75\n",
    "        print(\"you choose medium pizza with pepper of\",pizza_price)\n",
    "    elif cheese==\"y\" and pepper==\"y\":\n",
    "        pizza_price=medium+cheese_price\n",
    "        print(\"you choose medium pizza with cheese and pepper of\",pizza_price)\n",
    "    else:\n",
    "        pizza_price = medium\n",
    "        print(\"you choose medium pizza of \",pizza_price)\n",
    "elif size == \"l\":\n",
    "    if cheese==\"y\":\n",
    "        pizza_price=large+cheese_price\n",
    "        print(\"you choose large pizza with cheese of\",pizza_price)\n",
    "    elif pepper==\"y\":\n",
    "        pizza_price=large+100\n",
    "        print(\"you choose large pizza with pepper of\",pizza_price)\n",
    "    elif cheese==\"y\" and pepper==\"y\":\n",
    "        pizza_price=large+cheese_price\n",
    "        print(\"you choose large pizza with cheese and pepper of\",pizza_price)\n",
    "    else:\n",
    "        pizza_price = large\n",
    "        print(\"you choose large pizza of \",pizza_price)\n"
   ]
  },
  {
   "cell_type": "code",
   "execution_count": null,
   "metadata": {},
   "outputs": [],
   "source": []
  },
  {
   "cell_type": "code",
   "execution_count": 3,
   "metadata": {},
   "outputs": [
    {
     "output_type": "stream",
     "name": "stdout",
     "text": [
      "he can worki in urban onl\n"
     ]
    }
   ],
   "source": [
    "sex=input(\"sex: m or f\")\n",
    "age=int(input(\"enter age\"))\n",
    "range1=range(20,41)\n",
    "range2=range(40,61)\n",
    "if sex=='f' and age in range(20,41):\n",
    "    print(\"she will work in urban areas\")\n",
    "elif sex=='m' and age in range(20,41):\n",
    "    print(\"he can work anywhere\")\n",
    "elif sex=='m' and age in range(40,61):\n",
    "    print(\"he can worki in urban onl\")\n",
    "else:\n",
    "    print(\"you entered wrong age\")\n",
    "\n"
   ]
  },
  {
   "cell_type": "code",
   "execution_count": 8,
   "metadata": {},
   "outputs": [
    {
     "output_type": "stream",
     "name": "stdout",
     "text": [
      "you guessed h\nits tail\n"
     ]
    }
   ],
   "source": [
    "#randomization\n",
    "#coin toss using randomization\n",
    "import random\n",
    "h_or_t=random.randint(0,10)\n",
    "guess=input(\"guess what will be it: head or tail\")\n",
    "print(f\"you guessed {guess}\")\n",
    "if h_or_t%2==0:\n",
    "    print(\"its head\")\n",
    "elif h_or_t%2!=0:\n",
    "    print(\"its tail\")\n",
    "else:\n",
    "    print(\"none\")"
   ]
  },
  {
   "cell_type": "code",
   "execution_count": 34,
   "metadata": {},
   "outputs": [
    {
     "output_type": "stream",
     "name": "stdout",
     "text": [
      "['prvu', 'ncit', 'puntu', 'mom', 'dad', 'hdl', 'ni', 'nccbbs']\n8\n"
     ]
    }
   ],
   "source": [
    "r=['nccb','prvu','ncit','puntu','mom','dad']\n",
    "r.append('hdl')\n",
    "r.extend(['ni'])\n",
    "r.remove('nccb')\n",
    "r.insert(len(r),'nccbbs')\n",
    "print(r)\n",
    "print(len(r))"
   ]
  },
  {
   "cell_type": "code",
   "execution_count": 50,
   "metadata": {},
   "outputs": [
    {
     "output_type": "stream",
     "name": "stdout",
     "text": [
      "thee one who is gonna pay the bill is  k\n"
     ]
    }
   ],
   "source": [
    "names=input(\"names seperated by comma for friends\")\n",
    "l_names=names.split(\",\")\n",
    "count=len(l_names)\n",
    "random_number=random.randint(1,count-1)\n",
    "print(\"thee one who is gonna pay the bill is\",l_names[random_number])\n",
    "\n"
   ]
  },
  {
   "cell_type": "code",
   "execution_count": 29,
   "metadata": {},
   "outputs": [
    {
     "output_type": "stream",
     "name": "stdout",
     "text": [
      "['a', 'b', 'c', 'd', 'e']\n['f', 'g', 'h', 'i', 'j']\n['k', 'l', 'm', 'n', 'o']\n['p', 'q', 'r', 's', 't']\n['u', 'v', 'w', 'x', 'y']\n"
     ]
    }
   ],
   "source": []
  },
  {
   "cell_type": "code",
   "execution_count": 32,
   "metadata": {},
   "outputs": [
    {
     "output_type": "stream",
     "name": "stdout",
     "text": [
      "['a', 'b', 'c', 'd', 'e']\n",
      "['f', 'g', 'h', 'i', 'j']\n",
      "['k', 'l', 'm', 'n', 'o']\n",
      "['p', 'q', 'r', 's', 't']\n",
      "['u', 'v', 'w', 'x', 'y']\n",
      "[['a', 'b', 'c', 'd', 'e'], 'a', ['f', 'g', 'h', 'i', 'j'], ['k', 'l', 'm', 'n', 'o'], ['p', 'q', 'r', 's', 't'], ['u', 'v', 'w', 'x', 'y']]\n"
     ]
    }
   ],
   "source": [
    "row1=['a','b','c','d','e']\n",
    "row2=['f','g','h','i','j']\n",
    "row3=['k','l','m','n','o']\n",
    "row4=['p','q','r','s','t']\n",
    "row5=['u','v','w','x','y']\n",
    "merged_row=[row1,row2,row3,row4,row5]\n",
    "print(f\"{row1}\\n{row2}\\n{row3}\\n{row4}\\n{row5}\")\n",
    "position=input('enter the row position')\n",
    "merged_row.insert(position,'a')\n",
    "print(merged_row)"
   ]
  },
  {
   "cell_type": "code",
   "execution_count": 1,
   "metadata": {},
   "outputs": [
    {
     "output_type": "stream",
     "name": "stdout",
     "text": [
      "o\n"
     ]
    }
   ],
   "source": [
    "inp=input(\"string\")\n",
    "print(inp[1])"
   ]
  },
  {
   "cell_type": "code",
   "execution_count": 16,
   "metadata": {},
   "outputs": [
    {
     "output_type": "error",
     "ename": "ValueError",
     "evalue": "invalid literal for int() with base 10: 'roman'",
     "traceback": [
      "\u001b[1;31m---------------------------------------------------------------------------\u001b[0m",
      "\u001b[1;31mValueError\u001b[0m                                Traceback (most recent call last)",
      "\u001b[1;32m<ipython-input-16-0186829258e7>\u001b[0m in \u001b[0;36m<module>\u001b[1;34m\u001b[0m\n\u001b[0;32m      1\u001b[0m \u001b[0mstring\u001b[0m\u001b[1;33m=\u001b[0m\u001b[0minput\u001b[0m\u001b[1;33m(\u001b[0m\u001b[1;34m\"sting\"\u001b[0m\u001b[1;33m)\u001b[0m\u001b[1;33m\u001b[0m\u001b[1;33m\u001b[0m\u001b[0m\n\u001b[1;32m----> 2\u001b[1;33m \u001b[1;32mfor\u001b[0m \u001b[0mi\u001b[0m \u001b[1;32min\u001b[0m \u001b[0mrange\u001b[0m\u001b[1;33m(\u001b[0m\u001b[0mint\u001b[0m\u001b[1;33m(\u001b[0m\u001b[0mstring\u001b[0m\u001b[1;33m)\u001b[0m\u001b[1;33m)\u001b[0m\u001b[1;33m:\u001b[0m\u001b[1;33m\u001b[0m\u001b[1;33m\u001b[0m\u001b[0m\n\u001b[0m\u001b[0;32m      3\u001b[0m     \u001b[0mSTDIN\u001b[0m \u001b[1;33m=\u001b[0m \u001b[0minput\u001b[0m\u001b[1;33m(\u001b[0m\u001b[1;33m)\u001b[0m\u001b[1;33m\u001b[0m\u001b[1;33m\u001b[0m\u001b[0m\n\u001b[0;32m      4\u001b[0m     \u001b[0mprint\u001b[0m\u001b[1;33m(\u001b[0m\u001b[1;34mf\"{STDIN[::2]} {STDIN[1::2]}\"\u001b[0m\u001b[1;33m)\u001b[0m\u001b[1;33m\u001b[0m\u001b[1;33m\u001b[0m\u001b[0m\n",
      "\u001b[1;31mValueError\u001b[0m: invalid literal for int() with base 10: 'roman'"
     ]
    }
   ],
   "source": [
    "string=input(\"sting\")\n",
    "for i in range(int(len(string))):\n",
    "    STDIN = input()\n",
    "    print(f\"{STDIN[::2]}\")"
   ]
  },
  {
   "cell_type": "code",
   "execution_count": 4,
   "metadata": {},
   "outputs": [
    {
     "output_type": "stream",
     "name": "stdout",
     "text": [
      "carrot\n['carrot', 'papaya', 'cucumber']\npapaya\n['carrot', 'papaya', 'cucumber']\ncucumber\n['carrot', 'papaya', 'cucumber']\n"
     ]
    }
   ],
   "source": [
    "veggies=['carrot','papaya','cucumber']\n",
    "for vegetable in veggies:\n",
    "    print(vegetable)\n",
    "print(veggies)"
   ]
  },
  {
   "cell_type": "code",
   "execution_count": 53,
   "metadata": {},
   "outputs": [
    {
     "output_type": "stream",
     "name": "stdout",
     "text": [
      "['10', '02', '03']\ntotal value is 15\naverage value in list is 5\n"
     ]
    }
   ],
   "source": [
    "list=input(\"enter height and use 'space' to seperate 2 height of student\").split()\n",
    "print(list)\n",
    "value=0\n",
    "length=len(list)\n",
    "for total in list:\n",
    "    total=int(total)\n",
    "    value=int(value)\n",
    "    value=value+total\n",
    "print(\"total value is\",value)\n",
    "average=value/length\n",
    "average=round(average)\n",
    "print(f\"average value in list is {average}\")\n"
   ]
  },
  {
   "cell_type": "code",
   "execution_count": 24,
   "metadata": {},
   "outputs": [
    {
     "output_type": "stream",
     "name": "stdout",
     "text": [
      "['2', '2', '3', '4', '2', '2', '3']\n4\n"
     ]
    }
   ],
   "source": [
    "list = input(\"enter student score in space\").split()\n",
    "print(list)\n",
    "highest=0\n",
    "for i in list:\n",
    "    int_i=int(i)\n",
    "    if int_i>highest:\n",
    "        highest=int_i\n",
    "print(highest)"
   ]
  },
  {
   "cell_type": "code",
   "execution_count": null,
   "metadata": {},
   "outputs": [],
   "source": [
    "list= input(\"input here\").split()\n",
    "for n in list:\n",
    "    int_n=int(n)\n",
    "    total=0\n",
    "    if int_n%2=0:\n",
    "        total=total+int_n\n",
    "print(\"the ans is\",total)\n",
    "\n"
   ]
  },
  {
   "cell_type": "code",
   "execution_count": 2,
   "metadata": {},
   "outputs": [
    {
     "output_type": "stream",
     "name": "stdout",
     "text": [
      "the ans is 30\n"
     ]
    }
   ],
   "source": [
    "list= input(\"input here\").split()\n",
    "total=0\n",
    "for n in list:\n",
    "    int_n=int(n)\n",
    "    if int_n%2==0:\n",
    "        total=total+int_n\n",
    "print(\"the ans is\",total)\n"
   ]
  },
  {
   "cell_type": "code",
   "execution_count": 4,
   "metadata": {},
   "outputs": [
    {
     "output_type": "stream",
     "name": "stdout",
     "text": [
      "<class 'str'>\n"
     ]
    }
   ],
   "source": [
    "\n",
    "n='a'\n",
    "print(type(n))"
   ]
  },
  {
   "cell_type": "code",
   "execution_count": 42,
   "metadata": {},
   "outputs": [
    {
     "output_type": "stream",
     "name": "stdout",
     "text": [
      "1\n2\nfizz\n4\nbuzz\nfizz\n7\n8\nfizz\nbuzz\n11\nfizz\n13\n14\nfizzbuzz\n16\n17\nfizz\n19\nbuzz\nfizz\n22\n23\nfizz\nbuzz\n26\nfizz\n28\n29\nfizzbuzz\n31\n32\nfizz\n34\nbuzz\nfizz\n37\n38\nfizz\nbuzz\n41\nfizz\n43\n44\nfizzbuzz\n46\n47\nfizz\n49\nbuzz\nfizz\n52\n53\nfizz\nbuzz\n56\nfizz\n58\n59\nfizzbuzz\n61\n62\nfizz\n64\nbuzz\nfizz\n67\n68\nfizz\nbuzz\n71\nfizz\n73\n74\nfizzbuzz\n76\n77\nfizz\n79\nbuzz\nfizz\n82\n83\nfizz\nbuzz\n86\nfizz\n88\n89\nfizzbuzz\n91\n92\nfizz\n94\nbuzz\nfizz\n97\n98\nfizz\nbuzz\n"
     ]
    }
   ],
   "source": [
    "for number in range(1,101):\n",
    "    number=int(number)\n",
    "    if number%3==0 and number%5==0:\n",
    "        number='fizzbuzz'\n",
    "    elif number%5==0:\n",
    "        number='buzz'\n",
    "    elif number%3==0:\n",
    "        number='fizz'\n",
    "    print(number)\n",
    "\n"
   ]
  },
  {
   "cell_type": "code",
   "execution_count": null,
   "metadata": {},
   "outputs": [],
   "source": []
  },
  {
   "cell_type": "code",
   "execution_count": 1,
   "metadata": {},
   "outputs": [
    {
     "output_type": "stream",
     "name": "stdout",
     "text": [
      "           WELCOME TO CODE/PASSWORD GENERATOR\n"
     ]
    }
   ],
   "source": []
  },
  {
   "cell_type": "code",
   "execution_count": 10,
   "metadata": {},
   "outputs": [
    {
     "output_type": "stream",
     "name": "stdout",
     "text": [
      "neither odd nor even\n"
     ]
    }
   ],
   "source": [
    "#lab1q1\n",
    "check=int(input(\"enter a number to find odd or even\"))\n",
    "if check==0:\n",
    "    print(\"neither odd nor even\")\n",
    "elif check%2==0:\n",
    "    print(\"it is even\")\n",
    "elif check%2!=0:\n",
    "    print(\"not even\")"
   ]
  },
  {
   "cell_type": "code",
   "execution_count": 27,
   "metadata": {},
   "outputs": [
    {
     "output_type": "stream",
     "name": "stdout",
     "text": [
      "not leapyear\n"
     ]
    }
   ],
   "source": [
    "#lab2q2\n",
    "check=int(input(\"enter a year is leap or not\"))\n",
    "if check%4==0 and check%100!=0:\n",
    "    print(\"leapyear\")\n",
    "elif check%400==0:\n",
    "    print(\"leapyear\")\n",
    "else:\n",
    "    print(\"not leapyear\")\n",
    "\n",
    "    \n",
    "\n"
   ]
  },
  {
   "cell_type": "code",
   "execution_count": 28,
   "metadata": {},
   "outputs": [
    {
     "output_type": "stream",
     "name": "stdout",
     "text": [
      "a is a Vowel\n"
     ]
    }
   ],
   "source": [
    "#lab2q3\n",
    "ch = input(\"Enter a character: \")\n",
    "\n",
    "if(ch=='A' or ch=='a' or ch=='E' or ch =='e' or ch=='I'\n",
    " or ch=='i' or ch=='O' or ch=='o' or ch=='U' or ch=='u'):\n",
    "    print(ch, \"is a Vowel\")\n",
    "else:\n",
    "    print(ch, \"is a Consonant\")"
   ]
  },
  {
   "cell_type": "code",
   "execution_count": 31,
   "metadata": {},
   "outputs": [
    {
     "output_type": "stream",
     "name": "stdout",
     "text": [
      "30 is greater\n"
     ]
    }
   ],
   "source": [
    "#lab2q4\n",
    "check= input(\"enter two number with space seperating them\").split()\n",
    "if check[0]>check[1]:\n",
    "    print(check[0],\"is greater\")\n",
    "else:\n",
    "    print(check[1],\"is greater\")"
   ]
  },
  {
   "cell_type": "code",
   "execution_count": 32,
   "metadata": {},
   "outputs": [
    {
     "output_type": "error",
     "ename": "IndentationError",
     "evalue": "expected an indented block (<ipython-input-32-0d0d1ed4a8c0>, line 4)",
     "traceback": [
      "\u001b[0;36m  File \u001b[0;32m\"<ipython-input-32-0d0d1ed4a8c0>\"\u001b[0;36m, line \u001b[0;32m4\u001b[0m\n\u001b[0;31m    check1=check*(check-1)\u001b[0m\n\u001b[0m    ^\u001b[0m\n\u001b[0;31mIndentationError\u001b[0m\u001b[0;31m:\u001b[0m expected an indented block\n"
     ]
    }
   ],
   "source": [
    "#lab2q5\n",
    "check= input(\"number to find factorial\")\n",
    "if check>0:\n",
    "check1=check*(check-1)\n",
    "\n"
   ]
  },
  {
   "cell_type": "code",
   "execution_count": 2,
   "metadata": {},
   "outputs": [
    {
     "output_type": "stream",
     "name": "stdout",
     "text": [
      "{}\n"
     ]
    }
   ],
   "source": [
    "dict={}\n",
    "print(dict)"
   ]
  },
  {
   "cell_type": "code",
   "execution_count": 4,
   "metadata": {},
   "outputs": [
    {
     "output_type": "stream",
     "name": "stdout",
     "text": [
      "{'a': 10, 'b': 20}\n"
     ]
    }
   ],
   "source": [
    "#lab6q2\n",
    "dict={'a':10,'b':20}\n",
    "print(dict)"
   ]
  },
  {
   "cell_type": "code",
   "execution_count": 10,
   "metadata": {},
   "outputs": [
    {
     "output_type": "stream",
     "name": "stdout",
     "text": [
      "{}\n"
     ]
    }
   ],
   "source": [
    "#lab6q2\n",
    "del_dict={\n",
    "\"int\":1,\n",
    "\"float\":1.2,\n",
    "\"char\":'a',\n",
    "\"str\":\"dsada\",\n",
    "}\n",
    "del_dict.clear(\n",
    ")\n",
    "print(del_dict)"
   ]
  },
  {
   "cell_type": "code",
   "execution_count": 19,
   "metadata": {},
   "outputs": [
    {
     "output_type": "stream",
     "name": "stdout",
     "text": [
      "{'str': 'rome'}\n"
     ]
    }
   ],
   "source": [
    "#lab6q3\n",
    "diff_dt_dict={\n",
    "\"str\":\"sd\",\n",
    "}\n",
    "print(diff_dt_dict)\n"
   ]
  },
  {
   "cell_type": "code",
   "execution_count": 20,
   "metadata": {},
   "outputs": [
    {
     "output_type": "stream",
     "name": "stdout",
     "text": [
      "dict_keys(['char', 'str'])\ndict_values(['a', 'rome'])\n"
     ]
    }
   ],
   "source": [
    "# lab6q4\n",
    "dict={\n",
    "\"char\":'a',\n",
    "\"str\":\"dada\",\n",
    "}\n",
    "print(dict.keys())\n",
    "print(dict.values())"
   ]
  },
  {
   "cell_type": "code",
   "execution_count": 23,
   "metadata": {},
   "outputs": [
    {
     "output_type": "stream",
     "name": "stdout",
     "text": [
      "{'int': 1}\n"
     ]
    }
   ],
   "source": [
    "#lab6q5\n",
    "dict={\n",
    "\"int\":1,\n",
    "\"char\":'char'\n",
    "}\n",
    "dict.pop(\"char\")\n",
    "print(dict)"
   ]
  },
  {
   "cell_type": "code",
   "execution_count": 25,
   "metadata": {},
   "outputs": [
    {
     "output_type": "stream",
     "name": "stdout",
     "text": [
      "a\n"
     ]
    }
   ],
   "source": [
    "#lab6q6\n",
    "dic = {\n",
    "\"brand\": \"b\",\n",
    "\"model\": \"a\",\n",
    "}\n",
    "x = dic[\"model\"]\n",
    "print(x)"
   ]
  },
  {
   "cell_type": "code",
   "execution_count": 26,
   "metadata": {},
   "outputs": [
    {
     "output_type": "stream",
     "name": "stdout",
     "text": [
      "foound\n"
     ]
    }
   ],
   "source": [
    "#lab6q7\n",
    "dic = {\n",
    "\"brand\": \"b\",\n",
    "\"model\": \"a\",\n",
    "}\n",
    "if \"model\" in dic:\n",
    "    print('foound')"
   ]
  },
  {
   "cell_type": "code",
   "execution_count": 29,
   "metadata": {},
   "outputs": [
    {
     "output_type": "stream",
     "name": "stdout",
     "text": [
      "{'brand': 'b', 'model': 'a', 'make': 'take'}\n"
     ]
    }
   ],
   "source": [
    "#lab6q8\n",
    "dic = {\n",
    "\"brand\": \"b\",\n",
    "\"model\": \"a\",\n",
    "}\n",
    "dic.update({\"make\":\"take\"})\n",
    "print(dic)"
   ]
  },
  {
   "cell_type": "code",
   "execution_count": 32,
   "metadata": {},
   "outputs": [
    {
     "output_type": "stream",
     "name": "stdout",
     "text": [
      "\nDictionary =  {1: 1, 2: 4, 3: 9, 4: 16, 5: 25, 6: 36, 7: 49, 8: 64, 9: 81, 10: 100}\n"
     ]
    }
   ],
   "source": [
    "myDict = {}\n",
    "for x in range(1, 10 + 1):\n",
    "    myDict[x] = x ** 2\n",
    "print(\"\\nDictionary = \", myDict)"
   ]
  },
  {
   "cell_type": "code",
   "execution_count": 37,
   "metadata": {},
   "outputs": [
    {
     "output_type": "error",
     "ename": "SyntaxError",
     "evalue": "unmatched '}' (<ipython-input-37-5851e7e48ec0>, line 11)",
     "traceback": [
      "\u001b[0;36m  File \u001b[0;32m\"<ipython-input-37-5851e7e48ec0>\"\u001b[0;36m, line \u001b[0;32m11\u001b[0m\n\u001b[0;31m    }\u001b[0m\n\u001b[0m    ^\u001b[0m\n\u001b[0;31mSyntaxError\u001b[0m\u001b[0;31m:\u001b[0m unmatched '}'\n"
     ]
    }
   ],
   "source": [
    "family={\n",
    "    \"child\":{\n",
    "        \"name\":\"fam\",\n",
    "        \"year\":2001\n",
    "    },\n",
    "    \"child2\":{\n",
    "        \"name\":\"fam\",\n",
    "        \"year\":\"year2\"\n",
    "    },\n",
    "    }"
   ]
  },
  {
   "cell_type": "code",
   "execution_count": 38,
   "metadata": {},
   "outputs": [
    {
     "output_type": "stream",
     "name": "stdout",
     "text": [
      "6\n"
     ]
    }
   ],
   "source": [
    "dict = {\"a\":1, \"b\":2, \"c\": 3}\n",
    "values = dict.values()\n",
    "total = sum(values)\n",
    "print(total)"
   ]
  },
  {
   "cell_type": "code",
   "execution_count": 41,
   "metadata": {},
   "outputs": [
    {
     "output_type": "stream",
     "name": "stdout",
     "text": [
      "Factorial of 5 numbers are: \n{1: 1, 2: 2, 3: 6, 4: 24, 5: 120}\n"
     ]
    }
   ],
   "source": [
    "def fact(num):\n",
    "    res = 1\n",
    "    for i in range(1,num+1):\n",
    "        res *= i\n",
    "    return res\n",
    "keys=5\n",
    "fact_dict = {i: fact(i) for i in range(1, keys + 1)}\n",
    "print(\"Factorial of {} numbers are: \\n{}\".format(keys, fact_dict))"
   ]
  },
  {
   "cell_type": "code",
   "execution_count": 42,
   "metadata": {},
   "outputs": [
    {
     "output_type": "stream",
     "name": "stdout",
     "text": [
      "set()\n{0, 1, 2, 3, 4}\n"
     ]
    }
   ],
   "source": [
    "x = set()\n",
    "print(x)\n",
    "n = set([0, 1, 2, 3, 4])\n",
    "print(n)"
   ]
  },
  {
   "cell_type": "code",
   "execution_count": 43,
   "metadata": {},
   "outputs": [
    {
     "output_type": "stream",
     "name": "stdout",
     "text": [
      "Vowels are: {'i', 'e', 'o', 'u', 'a'}\nVowels are: {'i', 'e', 'o', 'u', 'a'}\n"
     ]
    }
   ],
   "source": [
    "vowels = {'a', 'e', 'i', 'u'}\n",
    "vowels.add('o')\n",
    "print('Vowels are:', vowels)\n",
    "vowels.add('a')\n",
    "print('Vowels are:', vowels)"
   ]
  },
  {
   "cell_type": "code",
   "execution_count": 44,
   "metadata": {},
   "outputs": [
    {
     "output_type": "stream",
     "name": "stdout",
     "text": [
      "{1, 2, 3, 4, 5}\n{1, 2, 3, 4, 5, 'c', 'b', 'a'}\n"
     ]
    }
   ],
   "source": [
    "list1 = [1, 2, 3, 4]\n",
    "list2 = [1, 4, 2, 3, 5]\n",
    "alphabet_set = {'a', 'b', 'c'}\n",
    "set1 = set(list2)\n",
    "set2 = set(list1)\n",
    "set1.update(set2)\n",
    "print(set1)\n",
    "set1.update(alphabet_set)\n",
    "print(set1)"
   ]
  },
  {
   "cell_type": "code",
   "execution_count": 45,
   "metadata": {},
   "outputs": [
    {
     "output_type": "stream",
     "name": "stdout",
     "text": [
      "6\n"
     ]
    }
   ],
   "source": [
    "seta = set([5, 10, 3, 15, 2, 20])\n",
    "print(len(seta))"
   ]
  },
  {
   "cell_type": "code",
   "execution_count": 46,
   "metadata": {},
   "outputs": [
    {
     "output_type": "stream",
     "name": "stdout",
     "text": [
      "{'apple', 'cherry'}\n"
     ]
    }
   ],
   "source": [
    "fruits = {\"apple\", \"banana\", \"cherry\"}\n",
    "fruits.remove(\"banana\")\n",
    "print(fruits)"
   ]
  },
  {
   "cell_type": "code",
   "execution_count": 47,
   "metadata": {},
   "outputs": [
    {
     "output_type": "stream",
     "name": "stdout",
     "text": [
      "{'cherry', 'banana'}\n"
     ]
    }
   ],
   "source": [
    "fruits = {\"apple\", \"banana\", \"cherry\"}\n",
    "fruits.pop()\n",
    "print(fruits)"
   ]
  },
  {
   "cell_type": "code",
   "execution_count": 48,
   "metadata": {},
   "outputs": [
    {
     "output_type": "stream",
     "name": "stdout",
     "text": [
      "{1, 2, 3, 4, 5, 6, 7}\n{1, 2, 3, 4, 5, 6, 7, 10, 11, 12}\n"
     ]
    }
   ],
   "source": [
    "ist1 = [1, 2, 3]\n",
    "list2 = [5, 6, 7]\n",
    "list3 = [10, 11, 12]\n",
    "set1 = set(list2)\n",
    "set2 = set(list1)\n",
    "set1.update(set2)\n",
    "print(set1)\n",
    "set1.update(list3)\n",
    "print(set1)"
   ]
  },
  {
   "cell_type": "code",
   "execution_count": 49,
   "metadata": {},
   "outputs": [
    {
     "output_type": "stream",
     "name": "stdout",
     "text": [
      "{'blue'}\n"
     ]
    }
   ],
   "source": [
    "setx = set([\"green\", \"blue\"])\n",
    "sety = set([\"blue\", \"yellow\"])\n",
    "setz = setx & sety\n",
    "print(setz)"
   ]
  },
  {
   "cell_type": "code",
   "execution_count": 51,
   "metadata": {},
   "outputs": [
    {
     "output_type": "stream",
     "name": "stdout",
     "text": [
      "True\nFalse\n"
     ]
    }
   ],
   "source": [
    "x = {\"f\", \"e\", \"d\", \"c\", \"b\", \"a\"}\n",
    "y = {\"a\", \"b\", \"c\"}\n",
    "z = x.issuperset(y)\n",
    "q=x.issubset(y)\n",
    "print(z)\n",
    "print(q)"
   ]
  },
  {
   "cell_type": "code",
   "execution_count": 50,
   "metadata": {},
   "outputs": [
    {
     "output_type": "stream",
     "name": "stdout",
     "text": [
      "{'green', 'blue', 'yellow'}\n"
     ]
    }
   ],
   "source": [
    "setx = set([\"green\", \"blue\"])\n",
    "sety = set([\"blue\", \"yellow\"])\n",
    "seta = setx | sety\n",
    "print(seta)"
   ]
  },
  {
   "cell_type": "code",
   "execution_count": 52,
   "metadata": {},
   "outputs": [
    {
     "output_type": "stream",
     "name": "stdout",
     "text": [
      "{'mango'}\n{'apple'}\n"
     ]
    }
   ],
   "source": [
    "setx = set([\"apple\", \"mango\"])\n",
    "sety = set([\"mango\", \"orange\"])\n",
    "setz = setx & sety\n",
    "print(setz)\n",
    "setb = setx - setz\n",
    "print(setb)"
   ]
  },
  {
   "cell_type": "code",
   "execution_count": 53,
   "metadata": {},
   "outputs": [
    {
     "output_type": "stream",
     "name": "stdout",
     "text": [
      "{'apple', 'orange'}\n"
     ]
    }
   ],
   "source": [
    "setx = set([\"apple\", \"mango\"])\n",
    "sety = set([\"mango\", \"orange\"])\n",
    "setc = setx ^ sety\n",
    "print(setc)"
   ]
  },
  {
   "cell_type": "code",
   "execution_count": 99,
   "metadata": {},
   "outputs": [
    {
     "output_type": "stream",
     "name": "stdout",
     "text": [
      "WELCOME TO CODE/PASSWORD GENERATOR\n",
      "donwe\n",
      "a u 0 5 + % h j k l "
     ]
    }
   ],
   "source": [
    "#random password generator\n",
    "import random\n",
    "alphabets=['a', 'b', 'c', 'd', 'e', 'f', 'g', 'h', 'i', 'j', 'k', 'l', 'm', 'n', 'o', 'p', 'q', 'r', 's', 't', 'u', 'v', 'w', 'x', 'y', 'z']\n",
    "number=['1','2','3','4','5','6','7','8','9','0']\n",
    "symbols=['~','!','@','#','$','%','^','&','*','(',')','_','+','-']\n",
    "print(\"\"\"WELCOME TO CODE/PASSWORD GENERATOR\"\"\")\n",
    "total_digit=int(input(\"total digit in your password\"))\n",
    "aplha_count=int(input(\"how many alphabet you want\"))\n",
    "number_count=int(input(\"how many number do you want\"))\n",
    "symbol_count=int(input(\"how many symbols you want\"))\n",
    "sum=aplha_count+number_count+symbol_count\n",
    "remaining=total_digit-sum\n",
    "if total_digit > (sum or aplha_count or number_count or number_count):\n",
    "    print(\"donwe\")\n",
    "# for i in range(0,total_digit):\n",
    "#     random_value=random.randint(0,2)\n",
    "    for i in range(0,aplha_count):\n",
    "        random_value=random.randint(0,len(alphabets))\n",
    "        print(alphabets[random_value],end =\" \")\n",
    "    for i in range(0,number_count):\n",
    "        random_value=random.randint(0,len(number))\n",
    "        print(number[random_value],end =\" \")\n",
    "    for i in range(0,symbol_count):\n",
    "        random_value=random.randint(0,len(symbols))\n",
    "        print(symbols[random_value],end =\" \")\n",
    "    for i in range(0,remaining):\n",
    "        random_value=random.randint(0,len(alphabets))\n",
    "        print(alphabets[random_value],end=\" \")\n",
    "else:\n",
    "    print(\"you pressed more than mentioned\")\n",
    "\n",
    "    #random generate in random can be initiate through F string?\n"
   ]
  },
  {
   "cell_type": "code",
   "execution_count": 9,
   "metadata": {},
   "outputs": [
    {
     "output_type": "stream",
     "name": "stdout",
     "text": [
      "1\n2\nfound\n4\n5\n6\n7\n8\n9\n10\n"
     ]
    }
   ],
   "source": [
    "for i in range(1,11):\n",
    "    if i==3:\n",
    "        print(\"found\")\n",
    "        continue\n",
    "    print(i)\n",
    "\n",
    "    \n",
    "\n",
    "    "
   ]
  },
  {
   "cell_type": "code",
   "execution_count": 12,
   "metadata": {},
   "outputs": [
    {
     "output_type": "error",
     "ename": "NameError",
     "evalue": "name 'true' is not defined",
     "traceback": [
      "\u001b[0;31m---------------------------------------------------------------------------\u001b[0m",
      "\u001b[0;31mNameError\u001b[0m                                 Traceback (most recent call last)",
      "\u001b[0;32m<ipython-input-12-4f579e80d123>\u001b[0m in \u001b[0;36m<module>\u001b[0;34m\u001b[0m\n\u001b[1;32m      1\u001b[0m \u001b[0mx\u001b[0m\u001b[0;34m=\u001b[0m\u001b[0;36m0\u001b[0m\u001b[0;34m\u001b[0m\u001b[0;34m\u001b[0m\u001b[0m\n\u001b[0;32m----> 2\u001b[0;31m \u001b[0;32mwhile\u001b[0m \u001b[0mtrue\u001b[0m\u001b[0;34m:\u001b[0m\u001b[0;34m\u001b[0m\u001b[0;34m\u001b[0m\u001b[0m\n\u001b[0m\u001b[1;32m      3\u001b[0m     \u001b[0mx\u001b[0m\u001b[0;34m+=\u001b[0m\u001b[0;36m1\u001b[0m\u001b[0;34m\u001b[0m\u001b[0;34m\u001b[0m\u001b[0m\n\u001b[1;32m      4\u001b[0m     \u001b[0mprint\u001b[0m\u001b[0;34m(\u001b[0m\u001b[0mx\u001b[0m\u001b[0;34m)\u001b[0m\u001b[0;34m\u001b[0m\u001b[0;34m\u001b[0m\u001b[0m\n",
      "\u001b[0;31mNameError\u001b[0m: name 'true' is not defined"
     ]
    }
   ],
   "source": [
    "x=0\n",
    "while True:\n",
    "    x+=1\n",
    "    print(x)"
   ]
  },
  {
   "cell_type": "code",
   "execution_count": 23,
   "metadata": {},
   "outputs": [
    {
     "output_type": "stream",
     "name": "stdout",
     "text": [
      "40\n"
     ]
    }
   ],
   "source": [
    "list1=input(\"enter 4 value\").split()\n",
    "list1=[int(i) for i in list1]\n",
    "high=0\n",
    "for i in list1:\n",
    "    if i>high:\n",
    "        high=i\n",
    "print(high)\n",
    "\n"
   ]
  },
  {
   "cell_type": "code",
   "execution_count": 24,
   "metadata": {},
   "outputs": [
    {
     "output_type": "stream",
     "name": "stdout",
     "text": [
      "hello\n"
     ]
    }
   ],
   "source": [
    "print(\"hello\")"
   ]
  },
  {
   "cell_type": "code",
   "execution_count": 13,
   "metadata": {},
   "outputs": [
    {
     "output_type": "stream",
     "name": "stdout",
     "text": [
      "hi don function\n"
     ]
    }
   ],
   "source": [
    "# function \n",
    "def hello_func(greet,name='rome'):\n",
    "    return f\"{greet} {name} function\"\n",
    "\n",
    "print(hello_func('hi','don'))\n"
   ]
  },
  {
   "cell_type": "code",
   "execution_count": 16,
   "metadata": {},
   "outputs": [
    {
     "output_type": "stream",
     "name": "stdout",
     "text": [
      "letter match r\n"
     ]
    }
   ],
   "source": [
    "given_word=input(\"give a word as on which another player will guess\")\n",
    "\n",
    "guess_letter=input(\"guess the letter in the word given.\")\n",
    "if guess_letter in given_word:\n",
    "    print(\"letter match\",guess_letter)\n",
    "else:\n",
    "    print('''\n",
    "     ___________.._______\n",
    "| .__________))______|\n",
    "| | / /      \n",
    "| |/ /       \n",
    "| | /        \n",
    "| |/         \n",
    "| |          \n",
    "| |          \n",
    "| |         \n",
    "| |        \n",
    "| |        \n",
    "| |        \n",
    "| |        \n",
    "| |          \n",
    "| |          \n",
    "| |         \n",
    "| |         \n",
    "| |         \n",
    "            \n",
    "    ''')\n"
   ]
  },
  {
   "cell_type": "code",
   "execution_count": 22,
   "metadata": {},
   "outputs": [
    {
     "output_type": "stream",
     "name": "stdout",
     "text": [
      "found\n3\n"
     ]
    }
   ],
   "source": [
    "import random\n",
    "random_words=[\"rome\",\"haddi\",\"kale\",\"kajidon\",\"romeo\"]\n",
    "randomvalue=random.randint(0,3)\n",
    "if 'a' in random_words[randomvalue]:\n",
    "    print(\"found\")\n",
    "print(randomvalue)"
   ]
  },
  {
   "cell_type": "code",
   "execution_count": 2,
   "metadata": {},
   "outputs": [
    {
     "output_type": "stream",
     "name": "stdout",
     "text": [
      "rome\n"
     ]
    }
   ],
   "source": [
    "def func():\n",
    "    print(\"rome\")\n",
    "func()"
   ]
  },
  {
   "cell_type": "code",
   "execution_count": 17,
   "metadata": {},
   "outputs": [
    {
     "output_type": "stream",
     "name": "stdout",
     "text": [
      "value is greeting name\n"
     ]
    }
   ],
   "source": [
    "def func(greeting,rome='name'):\n",
    "    return f\"value is {greeting} {rome}\"\n",
    "print(func('greeting'))"
   ]
  },
  {
   "cell_type": "code",
   "execution_count": 26,
   "metadata": {},
   "outputs": [
    {
     "output_type": "execute_result",
     "data": {
      "text/plain": [
       "30"
      ]
     },
     "metadata": {},
     "execution_count": 26
    }
   ],
   "source": [
    "month_list=[20,29,31,30,12,21,32,43]\n",
    "def leap_year(year):\n",
    "    return year%4==0 and (year%100!=0 or year%400==0)\n",
    "def in_month(month,year):\n",
    "    if not 1<= month <=12:\n",
    "        print(\"not a month\")\n",
    "    if month==2 and leap_year(year):\n",
    "        return 29\n",
    "    else:\n",
    "        return month_list[month]\n",
    "\n",
    "in_month(3,2000)"
   ]
  },
  {
   "cell_type": "code",
   "execution_count": 1,
   "metadata": {},
   "outputs": [
    {
     "output_type": "stream",
     "name": "stdout",
     "text": [
      "0\n1\n2\n3\n"
     ]
    }
   ],
   "source": [
    "for i  in range(0,4):\n",
    "    print(i)"
   ]
  },
  {
   "cell_type": "code",
   "execution_count": 11,
   "metadata": {},
   "outputs": [
    {
     "output_type": "error",
     "ename": "SyntaxError",
     "evalue": "invalid syntax (<ipython-input-11-7bdead950bdd>, line 4)",
     "traceback": [
      "\u001b[0;36m  File \u001b[0;32m\"<ipython-input-11-7bdead950bdd>\"\u001b[0;36m, line \u001b[0;32m4\u001b[0m\n\u001b[0;31m    if item == given\u001b[0m\n\u001b[0m                    ^\u001b[0m\n\u001b[0;31mSyntaxError\u001b[0m\u001b[0;31m:\u001b[0m invalid syntax\n"
     ]
    }
   ],
   "source": [
    "lists=[1,3,2]\n",
    "given=3\n",
    "for item in lists:\n",
    "    if item == given:\n",
    "        print(\"found\")"
   ]
  },
  {
   "cell_type": "code",
   "execution_count": 3,
   "metadata": {},
   "outputs": [
    {
     "output_type": "execute_result",
     "data": {
      "text/plain": [
       "'hi gokarna'"
      ]
     },
     "metadata": {},
     "execution_count": 3
    }
   ],
   "source": [
    "def hello(name,address=\"name\"):\n",
    "    return f\"{name} {address}\"\n",
    "hello(\"hi\",\"gokarna\")"
   ]
  },
  {
   "cell_type": "code",
   "execution_count": 8,
   "metadata": {},
   "outputs": [
    {
     "output_type": "stream",
     "name": "stdout",
     "text": [
      "nams is rome\ndetails is goon\n"
     ]
    }
   ],
   "source": [
    "def details(name,address):\n",
    "    print(f\"nams is {name}\")\n",
    "    print(f\"details is {address}\")\n",
    "details(address=\"goon\",name=\"rome\")"
   ]
  },
  {
   "cell_type": "code",
   "execution_count": 10,
   "metadata": {},
   "outputs": [
    {
     "output_type": "stream",
     "name": "stdout",
     "text": [
      "the can needed for paint is 10\n"
     ]
    }
   ],
   "source": [
    "def painting(height,width):\n",
    "    area=int(height)*int(width)\n",
    "    can=round(area/5)\n",
    "    print(f\"the can needed for paint is {can}\")\n",
    "    \n",
    "painting(height=5,width=10)"
   ]
  },
  {
   "cell_type": "code",
   "execution_count": 19,
   "metadata": {},
   "outputs": [
    {
     "output_type": "stream",
     "name": "stdout",
     "text": [
      "its prime\n"
     ]
    }
   ],
   "source": [
    "# prime number checker\n",
    "number=int(input(\"enter a number to check its prime or not\"))\n",
    "\n",
    "def prime_check(number):\n",
    "    condition=False\n",
    "    for num in range(2,number):\n",
    "        if number%num==0:\n",
    "            condition=True\n",
    "    if condition:\n",
    "        print(\"it is not prime\")\n",
    "    else:\n",
    "        print(\"its prime\")\n",
    "prime_check(number)"
   ]
  },
  {
   "cell_type": "code",
   "execution_count": 3,
   "metadata": {},
   "outputs": [
    {
     "output_type": "stream",
     "name": "stdout",
     "text": [
      "[20, 29, 31, 30, 12, 21, 32, 43, 45]\n"
     ]
    }
   ],
   "source": [
    "month_list=[20,29,31,30,12,21,32,43]\n",
    "month_list.extend([45])\n",
    "print(month_list)\n"
   ]
  },
  {
   "cell_type": "code",
   "execution_count": 8,
   "metadata": {},
   "outputs": [
    {
     "output_type": "stream",
     "name": "stdout",
     "text": [
      "{'hari': 'cannot handle this child', 'sam': 'exceptional', 'pathak': 'cannot handle this child', 'somra': 'exceptional'}\n"
     ]
    }
   ],
   "source": [
    "student_result={\n",
    "'hari':49,\n",
    "'sam':30,\n",
    "'pathak':44,\n",
    "'somra':33,\n",
    "}\n",
    "student={}\n",
    "for key, value in student_result.items():\n",
    "    if 30<=value<=40:\n",
    "        student_result[key]=\"exceptional\"\n",
    "    elif 40<=value<=50:\n",
    "        student_result[key]=\"cannot handle this child\"\n",
    "print(student_result)\n",
    "# for key in student_result:\n",
    "#     if 30<=student_result[key]<=45:\n",
    "#         print(f\"result of {key} is nice\")\n"
   ]
  },
  {
   "cell_type": "code",
   "execution_count": 24,
   "metadata": {},
   "outputs": [
    {
     "output_type": "stream",
     "name": "stdout",
     "text": [
      "['pokhara', 'ghandruk', 'poonhill']\n"
     ]
    }
   ],
   "source": [
    "#travel log\n",
    "new_dict={\n",
    "'kaski':{\n",
    "\"pokhara\":\"4 days\",\n",
    "\"ghandruk\":\"2days\",\n",
    "\"poonhill\":\"4days\",\n",
    "},\n",
    "\"kaski\":['pokhara','ghandruk','poonhill'],\n",
    "}\n",
    "print(new_dict['kaski'])"
   ]
  },
  {
   "cell_type": "code",
   "execution_count": 7,
   "metadata": {},
   "outputs": [
    {
     "output_type": "error",
     "ename": "IndentationError",
     "evalue": "unexpected indent (<ipython-input-7-935afcc371b0>, line 12)",
     "traceback": [
      "\u001b[0;36m  File \u001b[0;32m\"<ipython-input-7-935afcc371b0>\"\u001b[0;36m, line \u001b[0;32m12\u001b[0m\n\u001b[0;31m    print(new_func)\u001b[0m\n\u001b[0m    ^\u001b[0m\n\u001b[0;31mIndentationError\u001b[0m\u001b[0;31m:\u001b[0m unexpected indent\n"
     ]
    }
   ],
   "source": [
    "dictionary={\n",
    "    'country':'nepal',\n",
    "    'city':['kathmandu','bhaktapur','kaski'],\n",
    "    'frequency':2,\n",
    "}\n",
    "def new_func(country_visit,city_visit,frequency_visit):\n",
    "   dictionary={\n",
    "    'country':country_visit,\n",
    "    'city':city_visit,\n",
    "    'frequency':frequency_visit,\n",
    "   }\n",
    "    \n",
    "new_func('india',['delhi','faridabad','gurgaon'],3)\n",
    "print(dictionary)\n"
   ]
  },
  {
   "cell_type": "code",
   "execution_count": 33,
   "metadata": {},
   "outputs": [
    {
     "output_type": "stream",
     "name": "stdout",
     "text": [
      "{'rome': (40,)}\n"
     ]
    },
    {
     "output_type": "error",
     "ename": "ValueError",
     "evalue": "invalid literal for int() with base 10: 'nepal'",
     "traceback": [
      "\u001b[0;31m---------------------------------------------------------------------------\u001b[0m",
      "\u001b[0;31mValueError\u001b[0m                                Traceback (most recent call last)",
      "\u001b[0;32m<ipython-input-33-0718965fdfa6>\u001b[0m in \u001b[0;36m<module>\u001b[0;34m\u001b[0m\n\u001b[1;32m      9\u001b[0m \u001b[0mamount\u001b[0m\u001b[0;34m=\u001b[0m\u001b[0;36m0\u001b[0m\u001b[0;34m\u001b[0m\u001b[0;34m\u001b[0m\u001b[0m\n\u001b[1;32m     10\u001b[0m \u001b[0;32mfor\u001b[0m \u001b[0mkey\u001b[0m\u001b[0;34m,\u001b[0m\u001b[0mvalue\u001b[0m \u001b[0;32min\u001b[0m \u001b[0mdictionary\u001b[0m\u001b[0;34m.\u001b[0m\u001b[0mitems\u001b[0m\u001b[0;34m(\u001b[0m\u001b[0;34m)\u001b[0m\u001b[0;34m:\u001b[0m\u001b[0;34m\u001b[0m\u001b[0;34m\u001b[0m\u001b[0m\n\u001b[0;32m---> 11\u001b[0;31m     \u001b[0mvalue\u001b[0m\u001b[0;34m=\u001b[0m\u001b[0mint\u001b[0m\u001b[0;34m(\u001b[0m\u001b[0mvalue\u001b[0m\u001b[0;34m)\u001b[0m\u001b[0;34m\u001b[0m\u001b[0;34m\u001b[0m\u001b[0m\n\u001b[0m\u001b[1;32m     12\u001b[0m     \u001b[0;32mif\u001b[0m \u001b[0mvalue\u001b[0m\u001b[0;34m>\u001b[0m\u001b[0mamount\u001b[0m\u001b[0;34m:\u001b[0m\u001b[0;34m\u001b[0m\u001b[0;34m\u001b[0m\u001b[0m\n\u001b[1;32m     13\u001b[0m         \u001b[0mamount\u001b[0m\u001b[0;34m=\u001b[0m\u001b[0mvalue\u001b[0m\u001b[0;34m\u001b[0m\u001b[0;34m\u001b[0m\u001b[0m\n",
      "\u001b[0;31mValueError\u001b[0m: invalid literal for int() with base 10: 'nepal'"
     ]
    }
   ],
   "source": [
    "\n",
    "who_bid=input(\"who wants to bid\")\n",
    "to_bid=int(input(\"how much can you bid\"))\n",
    "\n",
    "def bidders(person,money):\n",
    "    dictionary={}\n",
    "    dictionary[person]=money,\n",
    "    print(dictionary)\n",
    "bidders(who_bid,to_bid)\n",
    "amount=0\n",
    "for key,value in dictionary.items():\n",
    "    value=int(value)\n",
    "    if value>amount:\n",
    "        amount=value\n",
    "    print(value)\n",
    "    \n",
    "    \n",
    "print(f\"the greatest bid is of {amount} dollars by {dictionary[key]}\")\n",
    "\n",
    "\n",
    "\n",
    "    \n"
   ]
  },
  {
   "cell_type": "code",
   "execution_count": 1,
   "metadata": {},
   "outputs": [
    {
     "output_type": "stream",
     "name": "stdout",
     "text": [
      "0\n1\n"
     ]
    }
   ],
   "source": []
  },
  {
   "cell_type": "code",
   "execution_count": 9,
   "metadata": {},
   "outputs": [
    {
     "output_type": "error",
     "ename": "TypeError",
     "evalue": "'str' object is not callable",
     "traceback": [
      "\u001b[0;31m---------------------------------------------------------------------------\u001b[0m",
      "\u001b[0;31mTypeError\u001b[0m                                 Traceback (most recent call last)",
      "\u001b[0;32m<ipython-input-9-70af8f11b22c>\u001b[0m in \u001b[0;36m<module>\u001b[0;34m\u001b[0m\n\u001b[1;32m     36\u001b[0m     \u001b[0mprint\u001b[0m\u001b[0;34m(\u001b[0m\u001b[0;34m\"you win!\"\u001b[0m\u001b[0;34m)\u001b[0m\u001b[0;34m\u001b[0m\u001b[0;34m\u001b[0m\u001b[0m\n\u001b[1;32m     37\u001b[0m \u001b[0;32melse\u001b[0m\u001b[0;34m:\u001b[0m\u001b[0;34m\u001b[0m\u001b[0;34m\u001b[0m\u001b[0m\n\u001b[0;32m---> 38\u001b[0;31m     \u001b[0mprint\u001b[0m\u001b[0;34m(\u001b[0m\u001b[0;34m\"you lose!\"\u001b[0m\u001b[0;34m)\u001b[0m\u001b[0;34m\u001b[0m\u001b[0;34m\u001b[0m\u001b[0m\n\u001b[0m\u001b[1;32m     39\u001b[0m \u001b[0;34m\u001b[0m\u001b[0m\n\u001b[1;32m     40\u001b[0m \u001b[0mgamewin\u001b[0m\u001b[0;34m(\u001b[0m\u001b[0;34m's'\u001b[0m\u001b[0;34m,\u001b[0m\u001b[0;34m'w'\u001b[0m\u001b[0;34m)\u001b[0m\u001b[0;34m\u001b[0m\u001b[0;34m\u001b[0m\u001b[0m\n",
      "\u001b[0;31mTypeError\u001b[0m: 'str' object is not callable"
     ]
    }
   ],
   "source": []
  },
  {
   "cell_type": "code",
   "execution_count": 1,
   "metadata": {},
   "outputs": [
    {
     "output_type": "error",
     "ename": "TypeError",
     "evalue": "'str' object is not callable",
     "traceback": [
      "\u001b[0;31m---------------------------------------------------------------------------\u001b[0m",
      "\u001b[0;31mTypeError\u001b[0m                                 Traceback (most recent call last)",
      "\u001b[0;32m<ipython-input-1-d513e7ae5c24>\u001b[0m in \u001b[0;36m<module>\u001b[0;34m\u001b[0m\n\u001b[1;32m     35\u001b[0m \u001b[0ma\u001b[0m\u001b[0;34m=\u001b[0m\u001b[0mgamewin\u001b[0m\u001b[0;34m(\u001b[0m\u001b[0mcomp\u001b[0m\u001b[0;34m,\u001b[0m\u001b[0myou\u001b[0m\u001b[0;34m)\u001b[0m\u001b[0;34m\u001b[0m\u001b[0;34m\u001b[0m\u001b[0m\n\u001b[1;32m     36\u001b[0m \u001b[0;32mif\u001b[0m \u001b[0ma\u001b[0m\u001b[0;34m==\u001b[0m\u001b[0;32mNone\u001b[0m\u001b[0;34m:\u001b[0m\u001b[0;34m\u001b[0m\u001b[0;34m\u001b[0m\u001b[0m\n\u001b[0;32m---> 37\u001b[0;31m     \u001b[0mprint\u001b[0m\u001b[0;34m(\u001b[0m\u001b[0;34m\"the game is a tie!\"\u001b[0m\u001b[0;34m)\u001b[0m\u001b[0;34m\u001b[0m\u001b[0;34m\u001b[0m\u001b[0m\n\u001b[0m\u001b[1;32m     38\u001b[0m \u001b[0;34m\u001b[0m\u001b[0m\n\u001b[1;32m     39\u001b[0m \u001b[0;32melif\u001b[0m \u001b[0ma\u001b[0m\u001b[0;34m:\u001b[0m\u001b[0;34m\u001b[0m\u001b[0;34m\u001b[0m\u001b[0m\n",
      "\u001b[0;31mTypeError\u001b[0m: 'str' object is not callable"
     ]
    }
   ],
   "source": [
    "import random\n",
    "\n",
    "def gamewin(comp,you):\n",
    "    if comp==you:\n",
    "        return none\n",
    "       \n",
    "    elif comp=='s':\n",
    "        if you=='w':\n",
    "            return False\n",
    "    elif you=='g':  \n",
    "            return True\n",
    "    elif comp=='w':\n",
    "        if you=='g':\n",
    "            return false\n",
    "        elif you=='s':\n",
    "         return True\n",
    "    elif comp=='g':\n",
    "        if you=='s':\n",
    "            return false\n",
    "    elif you=='w':\n",
    "        return True\n",
    "               \n",
    "print=(\"comp turn:snake(s) water(w) or gun(g)?\")\n",
    "randNo=random.randint(1,3)\n",
    "if randNo==1:\n",
    "    comp='s'\n",
    "elif randNo==2:\n",
    "    comp='w'\n",
    "elif randNo==3:\n",
    "    comp='g'\n",
    "           \n",
    "       \n",
    "\n",
    "you=(\"your turn:snake(s) water(w) or gun(g)?\")\n",
    "a=gamewin(comp,you)\n",
    "if a==None:\n",
    "    print(\"the game is a tie!\")\n",
    "   \n",
    "elif a:\n",
    "    print(\"you win!\")\n",
    "else:\n",
    "    print(\"you lose!\")"
   ]
  },
  {
   "cell_type": "code",
   "execution_count": 6,
   "metadata": {},
   "outputs": [
    {
     "output_type": "error",
     "ename": "TypeError",
     "evalue": "'str' object is not callable",
     "traceback": [
      "\u001b[0;31m---------------------------------------------------------------------------\u001b[0m",
      "\u001b[0;31mTypeError\u001b[0m                                 Traceback (most recent call last)",
      "\u001b[0;32m<ipython-input-6-39cddf61f0ca>\u001b[0m in \u001b[0;36m<module>\u001b[0;34m\u001b[0m\n\u001b[1;32m      4\u001b[0m     \u001b[0mPI\u001b[0m\u001b[0;34m*=\u001b[0m\u001b[0;36m2\u001b[0m\u001b[0;34m\u001b[0m\u001b[0;34m\u001b[0m\u001b[0m\n\u001b[1;32m      5\u001b[0m     \u001b[0mprint\u001b[0m\u001b[0;34m(\u001b[0m\u001b[0mPI\u001b[0m\u001b[0;34m)\u001b[0m\u001b[0;34m\u001b[0m\u001b[0;34m\u001b[0m\u001b[0m\n\u001b[0;32m----> 6\u001b[0;31m \u001b[0mfie_calculator\u001b[0m\u001b[0;34m(\u001b[0m\u001b[0;34m)\u001b[0m\u001b[0;34m\u001b[0m\u001b[0;34m\u001b[0m\u001b[0m\n\u001b[0m",
      "\u001b[0;32m<ipython-input-6-39cddf61f0ca>\u001b[0m in \u001b[0;36mfie_calculator\u001b[0;34m()\u001b[0m\n\u001b[1;32m      3\u001b[0m     \u001b[0;32mglobal\u001b[0m \u001b[0mPI\u001b[0m\u001b[0;34m\u001b[0m\u001b[0;34m\u001b[0m\u001b[0m\n\u001b[1;32m      4\u001b[0m     \u001b[0mPI\u001b[0m\u001b[0;34m*=\u001b[0m\u001b[0;36m2\u001b[0m\u001b[0;34m\u001b[0m\u001b[0;34m\u001b[0m\u001b[0m\n\u001b[0;32m----> 5\u001b[0;31m     \u001b[0mprint\u001b[0m\u001b[0;34m(\u001b[0m\u001b[0mPI\u001b[0m\u001b[0;34m)\u001b[0m\u001b[0;34m\u001b[0m\u001b[0;34m\u001b[0m\u001b[0m\n\u001b[0m\u001b[1;32m      6\u001b[0m \u001b[0mfie_calculator\u001b[0m\u001b[0;34m(\u001b[0m\u001b[0;34m)\u001b[0m\u001b[0;34m\u001b[0m\u001b[0;34m\u001b[0m\u001b[0m\n",
      "\u001b[0;31mTypeError\u001b[0m: 'str' object is not callable"
     ]
    }
   ],
   "source": [
    "PI=3.1\n",
    "def fie_calculator():\n",
    "    global PI\n",
    "    PI*=2\n",
    "    print(PI)\n",
    "fie_calculator()"
   ]
  },
  {
   "cell_type": "code",
   "execution_count": 4,
   "metadata": {},
   "outputs": [
    {
     "output_type": "stream",
     "name": "stdout",
     "text": [
      "[('rome', 'ojha'), ('sam', 'chor'), ('corey', 'schafer'), ('dixita', 'atixid')]\nfullname is rome ojha\nfullname is sam chor\nfullname is corey schafer\nfullname is dixita atixid\n"
     ]
    }
   ],
   "source": [
    "name=['rome','sam','corey','dixita']\n",
    "surname=['ojha','chor','schafer','atixid']\n",
    "fullname = list(zip(name,surname))\n",
    "print(fullname)\n",
    "for names in fullname:\n",
    "    print(f'fullname is {names[0]} {names[1]}')\n",
    "\n"
   ]
  },
  {
   "cell_type": "code",
   "execution_count": 22,
   "metadata": {},
   "outputs": [
    {
     "output_type": "stream",
     "name": "stdout",
     "text": [
      "found\n[22, 33, 44, 21, 43, 21, 66]\n"
     ]
    }
   ],
   "source": [
    "list1=[22,33,44,21,43,21,66]\n",
    "list2=[554,65,32,76,43,12]\n",
    "for i in list1:\n",
    "    if i==33:\n",
    "        print(\"found\")\n",
    "        break\n",
    "print(list1)\n"
   ]
  },
  {
   "cell_type": "code",
   "execution_count": null,
   "metadata": {},
   "outputs": [],
   "source": []
  }
 ]
}